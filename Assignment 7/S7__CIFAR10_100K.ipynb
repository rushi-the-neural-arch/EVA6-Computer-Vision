{
  "nbformat": 4,
  "nbformat_minor": 0,
  "metadata": {
    "colab": {
      "name": "S7_-CIFAR10-100K.ipynb",
      "provenance": [],
      "collapsed_sections": []
    },
    "kernelspec": {
      "name": "python3",
      "display_name": "Python 3"
    },
    "language_info": {
      "name": "python"
    },
    "accelerator": "GPU",
    "widgets": {
      "application/vnd.jupyter.widget-state+json": {
        "286b9fde3c3d46a59376540e9cf0fe9b": {
          "model_module": "@jupyter-widgets/controls",
          "model_name": "HBoxModel",
          "state": {
            "_view_name": "HBoxView",
            "_dom_classes": [],
            "_model_name": "HBoxModel",
            "_view_module": "@jupyter-widgets/controls",
            "_model_module_version": "1.5.0",
            "_view_count": null,
            "_view_module_version": "1.5.0",
            "box_style": "",
            "layout": "IPY_MODEL_3ba9de393e9c4b8bae8027fa1a5230ff",
            "_model_module": "@jupyter-widgets/controls",
            "children": [
              "IPY_MODEL_1d5514f22d8d4e5ea73c7f076b5271fb",
              "IPY_MODEL_dd3c63470e034f63bf4796b7a12d652e"
            ]
          }
        },
        "3ba9de393e9c4b8bae8027fa1a5230ff": {
          "model_module": "@jupyter-widgets/base",
          "model_name": "LayoutModel",
          "state": {
            "_view_name": "LayoutView",
            "grid_template_rows": null,
            "right": null,
            "justify_content": null,
            "_view_module": "@jupyter-widgets/base",
            "overflow": null,
            "_model_module_version": "1.2.0",
            "_view_count": null,
            "flex_flow": null,
            "width": null,
            "min_width": null,
            "border": null,
            "align_items": null,
            "bottom": null,
            "_model_module": "@jupyter-widgets/base",
            "top": null,
            "grid_column": null,
            "overflow_y": null,
            "overflow_x": null,
            "grid_auto_flow": null,
            "grid_area": null,
            "grid_template_columns": null,
            "flex": null,
            "_model_name": "LayoutModel",
            "justify_items": null,
            "grid_row": null,
            "max_height": null,
            "align_content": null,
            "visibility": null,
            "align_self": null,
            "height": null,
            "min_height": null,
            "padding": null,
            "grid_auto_rows": null,
            "grid_gap": null,
            "max_width": null,
            "order": null,
            "_view_module_version": "1.2.0",
            "grid_template_areas": null,
            "object_position": null,
            "object_fit": null,
            "grid_auto_columns": null,
            "margin": null,
            "display": null,
            "left": null
          }
        },
        "1d5514f22d8d4e5ea73c7f076b5271fb": {
          "model_module": "@jupyter-widgets/controls",
          "model_name": "FloatProgressModel",
          "state": {
            "_view_name": "ProgressView",
            "style": "IPY_MODEL_2f7e33641cf84558bd02bc2f6bc32628",
            "_dom_classes": [],
            "description": "",
            "_model_name": "FloatProgressModel",
            "bar_style": "success",
            "max": 170498071,
            "_view_module": "@jupyter-widgets/controls",
            "_model_module_version": "1.5.0",
            "value": 170498071,
            "_view_count": null,
            "_view_module_version": "1.5.0",
            "orientation": "horizontal",
            "min": 0,
            "description_tooltip": null,
            "_model_module": "@jupyter-widgets/controls",
            "layout": "IPY_MODEL_cef9c7a5ce0442da80ae68d3aa235386"
          }
        },
        "dd3c63470e034f63bf4796b7a12d652e": {
          "model_module": "@jupyter-widgets/controls",
          "model_name": "HTMLModel",
          "state": {
            "_view_name": "HTMLView",
            "style": "IPY_MODEL_f317fe13cfb9416ab6a699ae19eee938",
            "_dom_classes": [],
            "description": "",
            "_model_name": "HTMLModel",
            "placeholder": "​",
            "_view_module": "@jupyter-widgets/controls",
            "_model_module_version": "1.5.0",
            "value": " 170499072/? [00:24&lt;00:00, 6871282.69it/s]",
            "_view_count": null,
            "_view_module_version": "1.5.0",
            "description_tooltip": null,
            "_model_module": "@jupyter-widgets/controls",
            "layout": "IPY_MODEL_3d567a167d2741ada102d58b344e236f"
          }
        },
        "2f7e33641cf84558bd02bc2f6bc32628": {
          "model_module": "@jupyter-widgets/controls",
          "model_name": "ProgressStyleModel",
          "state": {
            "_view_name": "StyleView",
            "_model_name": "ProgressStyleModel",
            "description_width": "initial",
            "_view_module": "@jupyter-widgets/base",
            "_model_module_version": "1.5.0",
            "_view_count": null,
            "_view_module_version": "1.2.0",
            "bar_color": null,
            "_model_module": "@jupyter-widgets/controls"
          }
        },
        "cef9c7a5ce0442da80ae68d3aa235386": {
          "model_module": "@jupyter-widgets/base",
          "model_name": "LayoutModel",
          "state": {
            "_view_name": "LayoutView",
            "grid_template_rows": null,
            "right": null,
            "justify_content": null,
            "_view_module": "@jupyter-widgets/base",
            "overflow": null,
            "_model_module_version": "1.2.0",
            "_view_count": null,
            "flex_flow": null,
            "width": null,
            "min_width": null,
            "border": null,
            "align_items": null,
            "bottom": null,
            "_model_module": "@jupyter-widgets/base",
            "top": null,
            "grid_column": null,
            "overflow_y": null,
            "overflow_x": null,
            "grid_auto_flow": null,
            "grid_area": null,
            "grid_template_columns": null,
            "flex": null,
            "_model_name": "LayoutModel",
            "justify_items": null,
            "grid_row": null,
            "max_height": null,
            "align_content": null,
            "visibility": null,
            "align_self": null,
            "height": null,
            "min_height": null,
            "padding": null,
            "grid_auto_rows": null,
            "grid_gap": null,
            "max_width": null,
            "order": null,
            "_view_module_version": "1.2.0",
            "grid_template_areas": null,
            "object_position": null,
            "object_fit": null,
            "grid_auto_columns": null,
            "margin": null,
            "display": null,
            "left": null
          }
        },
        "f317fe13cfb9416ab6a699ae19eee938": {
          "model_module": "@jupyter-widgets/controls",
          "model_name": "DescriptionStyleModel",
          "state": {
            "_view_name": "StyleView",
            "_model_name": "DescriptionStyleModel",
            "description_width": "",
            "_view_module": "@jupyter-widgets/base",
            "_model_module_version": "1.5.0",
            "_view_count": null,
            "_view_module_version": "1.2.0",
            "_model_module": "@jupyter-widgets/controls"
          }
        },
        "3d567a167d2741ada102d58b344e236f": {
          "model_module": "@jupyter-widgets/base",
          "model_name": "LayoutModel",
          "state": {
            "_view_name": "LayoutView",
            "grid_template_rows": null,
            "right": null,
            "justify_content": null,
            "_view_module": "@jupyter-widgets/base",
            "overflow": null,
            "_model_module_version": "1.2.0",
            "_view_count": null,
            "flex_flow": null,
            "width": null,
            "min_width": null,
            "border": null,
            "align_items": null,
            "bottom": null,
            "_model_module": "@jupyter-widgets/base",
            "top": null,
            "grid_column": null,
            "overflow_y": null,
            "overflow_x": null,
            "grid_auto_flow": null,
            "grid_area": null,
            "grid_template_columns": null,
            "flex": null,
            "_model_name": "LayoutModel",
            "justify_items": null,
            "grid_row": null,
            "max_height": null,
            "align_content": null,
            "visibility": null,
            "align_self": null,
            "height": null,
            "min_height": null,
            "padding": null,
            "grid_auto_rows": null,
            "grid_gap": null,
            "max_width": null,
            "order": null,
            "_view_module_version": "1.2.0",
            "grid_template_areas": null,
            "object_position": null,
            "object_fit": null,
            "grid_auto_columns": null,
            "margin": null,
            "display": null,
            "left": null
          }
        }
      }
    }
  },
  "cells": [
    {
      "cell_type": "code",
      "metadata": {
        "id": "qG8p1UZRHTxF"
      },
      "source": [
        "%matplotlib inline"
      ],
      "execution_count": null,
      "outputs": []
    },
    {
      "cell_type": "code",
      "metadata": {
        "id": "nPDHDwv0Jd7C"
      },
      "source": [
        "import torch\n",
        "import torchvision\n",
        "import torchvision.transforms as transforms"
      ],
      "execution_count": null,
      "outputs": []
    },
    {
      "cell_type": "code",
      "metadata": {
        "id": "IEsksGzOj94O"
      },
      "source": [
        "import torch.nn as nn"
      ],
      "execution_count": null,
      "outputs": []
    },
    {
      "cell_type": "code",
      "metadata": {
        "id": "CUrGjcbEaxmU",
        "colab": {
          "base_uri": "https://localhost:8080/"
        },
        "outputId": "d89ca8cc-61ee-4c9a-ad2c-01768b4b6454"
      },
      "source": [
        "!pip install albumentations==1.0.0\n",
        "import albumentations as A"
      ],
      "execution_count": null,
      "outputs": [
        {
          "output_type": "stream",
          "text": [
            "Collecting albumentations==1.0.0\n",
            "  Downloading albumentations-1.0.0-py3-none-any.whl (98 kB)\n",
            "\u001b[?25l\r\u001b[K     |███▍                            | 10 kB 25.5 MB/s eta 0:00:01\r\u001b[K     |██████▊                         | 20 kB 33.7 MB/s eta 0:00:01\r\u001b[K     |██████████                      | 30 kB 32.6 MB/s eta 0:00:01\r\u001b[K     |█████████████▍                  | 40 kB 22.6 MB/s eta 0:00:01\r\u001b[K     |████████████████▊               | 51 kB 17.5 MB/s eta 0:00:01\r\u001b[K     |████████████████████            | 61 kB 12.7 MB/s eta 0:00:01\r\u001b[K     |███████████████████████▍        | 71 kB 12.7 MB/s eta 0:00:01\r\u001b[K     |██████████████████████████▊     | 81 kB 13.5 MB/s eta 0:00:01\r\u001b[K     |██████████████████████████████  | 92 kB 14.7 MB/s eta 0:00:01\r\u001b[K     |████████████████████████████████| 98 kB 4.1 MB/s \n",
            "\u001b[?25hRequirement already satisfied: numpy>=1.11.1 in /usr/local/lib/python3.7/dist-packages (from albumentations==1.0.0) (1.19.5)\n",
            "Collecting opencv-python-headless>=4.1.1\n",
            "  Downloading opencv_python_headless-4.5.3.56-cp37-cp37m-manylinux2014_x86_64.whl (37.1 MB)\n",
            "\u001b[K     |████████████████████████████████| 37.1 MB 47 kB/s \n",
            "\u001b[?25hRequirement already satisfied: PyYAML in /usr/local/lib/python3.7/dist-packages (from albumentations==1.0.0) (3.13)\n",
            "Requirement already satisfied: scipy in /usr/local/lib/python3.7/dist-packages (from albumentations==1.0.0) (1.4.1)\n",
            "Requirement already satisfied: scikit-image>=0.16.1 in /usr/local/lib/python3.7/dist-packages (from albumentations==1.0.0) (0.16.2)\n",
            "Requirement already satisfied: matplotlib!=3.0.0,>=2.0.0 in /usr/local/lib/python3.7/dist-packages (from scikit-image>=0.16.1->albumentations==1.0.0) (3.2.2)\n",
            "Requirement already satisfied: PyWavelets>=0.4.0 in /usr/local/lib/python3.7/dist-packages (from scikit-image>=0.16.1->albumentations==1.0.0) (1.1.1)\n",
            "Requirement already satisfied: pillow>=4.3.0 in /usr/local/lib/python3.7/dist-packages (from scikit-image>=0.16.1->albumentations==1.0.0) (7.1.2)\n",
            "Requirement already satisfied: networkx>=2.0 in /usr/local/lib/python3.7/dist-packages (from scikit-image>=0.16.1->albumentations==1.0.0) (2.5.1)\n",
            "Requirement already satisfied: imageio>=2.3.0 in /usr/local/lib/python3.7/dist-packages (from scikit-image>=0.16.1->albumentations==1.0.0) (2.4.1)\n",
            "Requirement already satisfied: python-dateutil>=2.1 in /usr/local/lib/python3.7/dist-packages (from matplotlib!=3.0.0,>=2.0.0->scikit-image>=0.16.1->albumentations==1.0.0) (2.8.1)\n",
            "Requirement already satisfied: pyparsing!=2.0.4,!=2.1.2,!=2.1.6,>=2.0.1 in /usr/local/lib/python3.7/dist-packages (from matplotlib!=3.0.0,>=2.0.0->scikit-image>=0.16.1->albumentations==1.0.0) (2.4.7)\n",
            "Requirement already satisfied: kiwisolver>=1.0.1 in /usr/local/lib/python3.7/dist-packages (from matplotlib!=3.0.0,>=2.0.0->scikit-image>=0.16.1->albumentations==1.0.0) (1.3.1)\n",
            "Requirement already satisfied: cycler>=0.10 in /usr/local/lib/python3.7/dist-packages (from matplotlib!=3.0.0,>=2.0.0->scikit-image>=0.16.1->albumentations==1.0.0) (0.10.0)\n",
            "Requirement already satisfied: six in /usr/local/lib/python3.7/dist-packages (from cycler>=0.10->matplotlib!=3.0.0,>=2.0.0->scikit-image>=0.16.1->albumentations==1.0.0) (1.15.0)\n",
            "Requirement already satisfied: decorator<5,>=4.3 in /usr/local/lib/python3.7/dist-packages (from networkx>=2.0->scikit-image>=0.16.1->albumentations==1.0.0) (4.4.2)\n",
            "Installing collected packages: opencv-python-headless, albumentations\n",
            "  Attempting uninstall: albumentations\n",
            "    Found existing installation: albumentations 0.1.12\n",
            "    Uninstalling albumentations-0.1.12:\n",
            "      Successfully uninstalled albumentations-0.1.12\n",
            "Successfully installed albumentations-1.0.0 opencv-python-headless-4.5.3.56\n"
          ],
          "name": "stdout"
        }
      ]
    },
    {
      "cell_type": "code",
      "metadata": {
        "id": "8YaTC0bcfs8l"
      },
      "source": [
        "import albumentations \n",
        "from albumentations.pytorch import ToTensorV2\n",
        "import numpy as np"
      ],
      "execution_count": null,
      "outputs": []
    },
    {
      "cell_type": "code",
      "metadata": {
        "id": "pTyEaTPKd_fc"
      },
      "source": [
        "from model import Net\n",
        "from utils import *"
      ],
      "execution_count": null,
      "outputs": []
    },
    {
      "cell_type": "code",
      "metadata": {
        "id": "2Xbu7j7klIag"
      },
      "source": [
        "from train_eval import *"
      ],
      "execution_count": null,
      "outputs": []
    },
    {
      "cell_type": "code",
      "metadata": {
        "colab": {
          "base_uri": "https://localhost:8080/",
          "height": 99,
          "referenced_widgets": [
            "286b9fde3c3d46a59376540e9cf0fe9b",
            "3ba9de393e9c4b8bae8027fa1a5230ff",
            "1d5514f22d8d4e5ea73c7f076b5271fb",
            "dd3c63470e034f63bf4796b7a12d652e",
            "2f7e33641cf84558bd02bc2f6bc32628",
            "cef9c7a5ce0442da80ae68d3aa235386",
            "f317fe13cfb9416ab6a699ae19eee938",
            "3d567a167d2741ada102d58b344e236f"
          ]
        },
        "id": "3DSONjRHHYhV",
        "outputId": "cbce9a8e-f278-4e56-cef4-1e739b50d3a1"
      },
      "source": [
        "trainset = torchvision.datasets.CIFAR10(root='./data', train=True,\n",
        "                                        download=True, transform = transforms.ToTensor())\n",
        "\n",
        "trainloader = torch.utils.data.DataLoader(trainset, batch_size=64,\n",
        "                                          shuffle=True, num_workers=2)"
      ],
      "execution_count": null,
      "outputs": [
        {
          "output_type": "stream",
          "text": [
            "Downloading https://www.cs.toronto.edu/~kriz/cifar-10-python.tar.gz to ./data/cifar-10-python.tar.gz\n"
          ],
          "name": "stdout"
        },
        {
          "output_type": "display_data",
          "data": {
            "application/vnd.jupyter.widget-view+json": {
              "model_id": "286b9fde3c3d46a59376540e9cf0fe9b",
              "version_minor": 0,
              "version_major": 2
            },
            "text/plain": [
              "HBox(children=(FloatProgress(value=0.0, max=170498071.0), HTML(value='')))"
            ]
          },
          "metadata": {
            "tags": []
          }
        },
        {
          "output_type": "stream",
          "text": [
            "\n",
            "Extracting ./data/cifar-10-python.tar.gz to ./data\n"
          ],
          "name": "stdout"
        }
      ]
    },
    {
      "cell_type": "code",
      "metadata": {
        "colab": {
          "base_uri": "https://localhost:8080/"
        },
        "id": "GAfmZY4OJymZ",
        "outputId": "e1aa4ee5-8bab-44b6-e9ef-8ea9b480a9c2"
      },
      "source": [
        "mean, std = get_mean_std(trainloader)\n",
        "mean, std"
      ],
      "execution_count": null,
      "outputs": [
        {
          "output_type": "execute_result",
          "data": {
            "text/plain": [
              "(tensor([0.4914, 0.4821, 0.4465]), tensor([0.2470, 0.2435, 0.2616]))"
            ]
          },
          "metadata": {
            "tags": []
          },
          "execution_count": 10
        }
      ]
    },
    {
      "cell_type": "code",
      "metadata": {
        "colab": {
          "base_uri": "https://localhost:8080/"
        },
        "id": "cLeetIh6HY_R",
        "outputId": "92df6b8f-e5fb-476a-fdad-b0ad5af97d74"
      },
      "source": [
        "import torch\n",
        "import torchvision\n",
        "import torchvision.transforms as transforms\n",
        "import torchvision.datasets as datasets\n",
        "import torchvision.utils as utils\n",
        "\n",
        "\n",
        "horizontalflip_prob = 0.2\n",
        "rotate_limit = 15\n",
        "shiftscalerotate_prob = 0.25\n",
        "num_holes = 1\n",
        "cutout_prob = 0.5\n",
        "\n",
        "train_transforms, test_transforms = data_albumentations(horizontalflip_prob,rotate_limit,\n",
        "                                                                      shiftscalerotate_prob,num_holes,cutout_prob,trainloader)\n",
        "\n",
        "                  \n",
        "\n",
        "train_set = torchvision.datasets.CIFAR10(root='./data', train=True,\n",
        "                                        download=True, transform = train_transforms)\n",
        "\n",
        "test_set  = datasets.CIFAR10(root='./data', train=False,\n",
        "                                download=True, transform=test_transforms)\n",
        "\n",
        "\n",
        "train_loader = torch.utils.data.DataLoader(train_set, \n",
        "                                          batch_size=64, \n",
        "                                          shuffle=True,\n",
        "                                          num_workers=2, \n",
        "                                          pin_memory=True)\n",
        "\n",
        "test_loader = torch.utils.data.DataLoader(test_set, \n",
        "                                            batch_size=64,  \n",
        "                                            shuffle=False,\n",
        "                                            num_workers=2, \n",
        "                                            pin_memory=True)\n",
        "        "
      ],
      "execution_count": null,
      "outputs": [
        {
          "output_type": "stream",
          "text": [
            "Files already downloaded and verified\n",
            "Files already downloaded and verified\n"
          ],
          "name": "stdout"
        }
      ]
    },
    {
      "cell_type": "markdown",
      "metadata": {
        "id": "71ynWYeBKKFl"
      },
      "source": [
        "# Plot Images"
      ]
    },
    {
      "cell_type": "code",
      "metadata": {
        "colab": {
          "base_uri": "https://localhost:8080/",
          "height": 862
        },
        "id": "KawXQZ0QKt4w",
        "outputId": "ad2ba91a-44a7-410c-d96c-5b5bd5b33b23"
      },
      "source": [
        "N_IMAGES = 25\n",
        "\n",
        "classes = ['plane', 'car', 'bird', 'cat', 'deer', 'dog', 'frog', 'horse', 'ship', 'truck']\n",
        "\n",
        "images, labels = zip(*[(image, label) for image, label in \n",
        "                           [trainset[i] for i in range(N_IMAGES)]])\n",
        "\n",
        "\n",
        "plot_images(images, labels, classes)"
      ],
      "execution_count": null,
      "outputs": [
        {
          "output_type": "display_data",
          "data": {
            "image/png": "[encoded data removed]",
            "text/plain": [
              "<Figure size 1080x1080 with 25 Axes>"
            ]
          },
          "metadata": {
            "tags": [],
            "needs_background": "light"
          }
        }
      ]
    },
    {
      "cell_type": "code",
      "metadata": {
        "id": "aOBkhdxvd08A"
      },
      "source": [
        "net = Net()"
      ],
      "execution_count": null,
      "outputs": []
    },
    {
      "cell_type": "code",
      "metadata": {
        "colab": {
          "base_uri": "https://localhost:8080/"
        },
        "id": "j6B3kF5iLIeF",
        "outputId": "81c3a32f-7947-4bf6-93c4-ea938347f0d7"
      },
      "source": [
        "from torchsummary import summary\n",
        "summary(net.cuda(), (3, 32, 32)) "
      ],
      "execution_count": null,
      "outputs": [
        {
          "output_type": "stream",
          "text": [
            "----------------------------------------------------------------\n",
            "        Layer (type)               Output Shape         Param #\n",
            "================================================================\n",
            "            Conv2d-1           [-1, 32, 32, 32]             864\n",
            "              ReLU-2           [-1, 32, 32, 32]               0\n",
            "       BatchNorm2d-3           [-1, 32, 32, 32]              64\n",
            "           Dropout-4           [-1, 32, 32, 32]               0\n",
            "            Conv2d-5           [-1, 64, 32, 32]          18,432\n",
            "              ReLU-6           [-1, 64, 32, 32]               0\n",
            "       BatchNorm2d-7           [-1, 64, 32, 32]             128\n",
            "           Dropout-8           [-1, 64, 32, 32]               0\n",
            "            Conv2d-9           [-1, 32, 32, 32]           2,080\n",
            "           Conv2d-10           [-1, 32, 16, 16]             288\n",
            "           Conv2d-11           [-1, 32, 16, 16]           9,216\n",
            "             ReLU-12           [-1, 32, 16, 16]               0\n",
            "      BatchNorm2d-13           [-1, 32, 16, 16]              64\n",
            "          Dropout-14           [-1, 32, 16, 16]               0\n",
            "           Conv2d-15           [-1, 32, 16, 16]             288\n",
            "           Conv2d-16           [-1, 64, 18, 18]           2,112\n",
            "             ReLU-17           [-1, 64, 18, 18]               0\n",
            "      BatchNorm2d-18           [-1, 64, 18, 18]             128\n",
            "          Dropout-19           [-1, 64, 18, 18]               0\n",
            "           Conv2d-20           [-1, 32, 18, 18]           2,080\n",
            "           Conv2d-21             [-1, 32, 9, 9]             288\n",
            "           Conv2d-22             [-1, 64, 7, 7]          18,432\n",
            "             ReLU-23             [-1, 64, 7, 7]               0\n",
            "      BatchNorm2d-24             [-1, 64, 7, 7]             128\n",
            "          Dropout-25             [-1, 64, 7, 7]               0\n",
            "           Conv2d-26             [-1, 64, 7, 7]          36,864\n",
            "             ReLU-27             [-1, 64, 7, 7]               0\n",
            "      BatchNorm2d-28             [-1, 64, 7, 7]             128\n",
            "          Dropout-29             [-1, 64, 7, 7]               0\n",
            "           Conv2d-30             [-1, 64, 7, 7]             576\n",
            "           Conv2d-31             [-1, 32, 9, 9]           2,080\n",
            "             ReLU-32             [-1, 32, 9, 9]               0\n",
            "      BatchNorm2d-33             [-1, 32, 9, 9]              64\n",
            "           Conv2d-34             [-1, 16, 9, 9]             528\n",
            "           Conv2d-35             [-1, 16, 5, 5]             144\n",
            "           Conv2d-36             [-1, 10, 5, 5]           1,440\n",
            "             ReLU-37             [-1, 10, 5, 5]               0\n",
            "      BatchNorm2d-38             [-1, 10, 5, 5]              20\n",
            "        AvgPool2d-39             [-1, 10, 1, 1]               0\n",
            "================================================================\n",
            "Total params: 96,436\n",
            "Trainable params: 96,436\n",
            "Non-trainable params: 0\n",
            "----------------------------------------------------------------\n",
            "Input size (MB): 0.01\n",
            "Forward/backward pass size (MB): 4.65\n",
            "Params size (MB): 0.37\n",
            "Estimated Total Size (MB): 5.03\n",
            "----------------------------------------------------------------\n"
          ],
          "name": "stdout"
        }
      ]
    },
    {
      "cell_type": "markdown",
      "metadata": {
        "id": "9Dm38ewiMn0O"
      },
      "source": [
        "# Training"
      ]
    },
    {
      "cell_type": "code",
      "metadata": {
        "id": "DdVvh3MnM0jL"
      },
      "source": [
        "import torch.optim as optim\n",
        "from torch.optim.lr_scheduler import ReduceLROnPlateau\n",
        "from torch.optim.lr_scheduler import ExponentialLR, OneCycleLR\n",
        "\n",
        "l2_factor = 0.0001\n",
        "\n",
        "criterion = nn.CrossEntropyLoss()\n",
        "optimizer = optim.Adam(net.parameters(), lr = 1e-3) #, weight_decay=l2_factor\n",
        "\n",
        "epochs = 150\n",
        "\n",
        "scheduler2 =ReduceLROnPlateau(optimizer=optimizer, verbose=True)\n",
        "scheduler = OneCycleLR(optimizer, max_lr=0.01, steps_per_epoch=78200, epochs=epochs)   # steps_per_epoch = len(train_loader)"
      ],
      "execution_count": null,
      "outputs": []
    },
    {
      "cell_type": "code",
      "metadata": {
        "colab": {
          "base_uri": "https://localhost:8080/",
          "height": 420
        },
        "id": "7OqfxQnKMuAx",
        "outputId": "6f9b9aa7-5ea3-46d7-cb86-7121cbbdee17"
      },
      "source": [
        "EPOCHS = epochs\n",
        "\n",
        "device = 'cuda' if torch.cuda.is_available() else 'cpu'\n",
        "best_valid_loss = float('inf')\n",
        "\n",
        "l1_factor = 0\n",
        "\n",
        "for epoch in range(EPOCHS):\n",
        "    \n",
        "    train_loss, train_acc = train(net, train_loader, optimizer, scheduler, criterion, l1_factor, device)\n",
        "    valid_loss, valid_acc = evaluate(net, test_loader, criterion, device)\n",
        "        \n",
        "    if valid_loss < best_valid_loss:\n",
        "        best_valid_loss = valid_loss\n",
        "        torch.save(net.state_dict(), '96K-model.pth')\n",
        "    \n",
        "    print(f'Epoch: {epoch+1:02} ')\n",
        "    print(f'\\tTrain Loss: {train_loss:.3f} | Train Acc: {train_acc*100:.2f}%')\n",
        "    print(f'\\t Val. Loss: {valid_loss:.3f} |  Val. Acc: {valid_acc*100:.2f}%')"
      ],
      "execution_count": null,
      "outputs": [
        {
          "output_type": "stream",
          "text": [
            "Epoch: 01 \n",
            "\tTrain Loss: 1.701 | Train Acc: 38.92%\n",
            "\t Val. Loss: 1.340 |  Val. Acc: 52.71%\n"
          ],
          "name": "stdout"
        },
        {
          "output_type": "error",
          "ename": "KeyboardInterrupt",
          "evalue": "ignored",
          "traceback": [
            "\u001b[0;31m---------------------------------------------------------------------------\u001b[0m",
            "\u001b[0;31mKeyboardInterrupt\u001b[0m                         Traceback (most recent call last)",
            "\u001b[0;32m<ipython-input-19-a9ae5bd25056>\u001b[0m in \u001b[0;36m<module>\u001b[0;34m()\u001b[0m\n\u001b[1;32m      8\u001b[0m \u001b[0;32mfor\u001b[0m \u001b[0mepoch\u001b[0m \u001b[0;32min\u001b[0m \u001b[0mrange\u001b[0m\u001b[0;34m(\u001b[0m\u001b[0mEPOCHS\u001b[0m\u001b[0;34m)\u001b[0m\u001b[0;34m:\u001b[0m\u001b[0;34m\u001b[0m\u001b[0;34m\u001b[0m\u001b[0m\n\u001b[1;32m      9\u001b[0m \u001b[0;34m\u001b[0m\u001b[0m\n\u001b[0;32m---> 10\u001b[0;31m     \u001b[0mtrain_loss\u001b[0m\u001b[0;34m,\u001b[0m \u001b[0mtrain_acc\u001b[0m \u001b[0;34m=\u001b[0m \u001b[0mtrain\u001b[0m\u001b[0;34m(\u001b[0m\u001b[0mnet\u001b[0m\u001b[0;34m,\u001b[0m \u001b[0mtrain_loader\u001b[0m\u001b[0;34m,\u001b[0m \u001b[0moptimizer\u001b[0m\u001b[0;34m,\u001b[0m \u001b[0mscheduler\u001b[0m\u001b[0;34m,\u001b[0m \u001b[0mcriterion\u001b[0m\u001b[0;34m,\u001b[0m \u001b[0ml1_factor\u001b[0m\u001b[0;34m,\u001b[0m \u001b[0mdevice\u001b[0m\u001b[0;34m)\u001b[0m\u001b[0;34m\u001b[0m\u001b[0;34m\u001b[0m\u001b[0m\n\u001b[0m\u001b[1;32m     11\u001b[0m     \u001b[0mvalid_loss\u001b[0m\u001b[0;34m,\u001b[0m \u001b[0mvalid_acc\u001b[0m \u001b[0;34m=\u001b[0m \u001b[0mevaluate\u001b[0m\u001b[0;34m(\u001b[0m\u001b[0mnet\u001b[0m\u001b[0;34m,\u001b[0m \u001b[0mtest_loader\u001b[0m\u001b[0;34m,\u001b[0m \u001b[0mcriterion\u001b[0m\u001b[0;34m,\u001b[0m \u001b[0mdevice\u001b[0m\u001b[0;34m)\u001b[0m\u001b[0;34m\u001b[0m\u001b[0;34m\u001b[0m\u001b[0m\n\u001b[1;32m     12\u001b[0m \u001b[0;34m\u001b[0m\u001b[0m\n",
            "\u001b[0;32m/content/train_eval.py\u001b[0m in \u001b[0;36mtrain\u001b[0;34m(model, iterator, optimizer, scheduler, criterion, l1_factor, device)\u001b[0m\n\u001b[1;32m     18\u001b[0m         \u001b[0moptimizer\u001b[0m\u001b[0;34m.\u001b[0m\u001b[0mzero_grad\u001b[0m\u001b[0;34m(\u001b[0m\u001b[0;34m)\u001b[0m\u001b[0;34m\u001b[0m\u001b[0;34m\u001b[0m\u001b[0m\n\u001b[1;32m     19\u001b[0m \u001b[0;34m\u001b[0m\u001b[0m\n\u001b[0;32m---> 20\u001b[0;31m         \u001b[0my_pred\u001b[0m \u001b[0;34m=\u001b[0m \u001b[0mmodel\u001b[0m\u001b[0;34m(\u001b[0m\u001b[0mx\u001b[0m\u001b[0;34m)\u001b[0m\u001b[0;34m\u001b[0m\u001b[0;34m\u001b[0m\u001b[0m\n\u001b[0m\u001b[1;32m     21\u001b[0m         \u001b[0;31m#print(y_pred.shape, y.shape)\u001b[0m\u001b[0;34m\u001b[0m\u001b[0;34m\u001b[0m\u001b[0;34m\u001b[0m\u001b[0m\n\u001b[1;32m     22\u001b[0m         \u001b[0mloss\u001b[0m \u001b[0;34m=\u001b[0m \u001b[0mcriterion\u001b[0m\u001b[0;34m(\u001b[0m\u001b[0my_pred\u001b[0m\u001b[0;34m,\u001b[0m \u001b[0my\u001b[0m\u001b[0;34m)\u001b[0m\u001b[0;34m\u001b[0m\u001b[0;34m\u001b[0m\u001b[0m\n",
            "\u001b[0;32m/usr/local/lib/python3.7/dist-packages/torch/nn/modules/module.py\u001b[0m in \u001b[0;36m_call_impl\u001b[0;34m(self, *input, **kwargs)\u001b[0m\n\u001b[1;32m   1049\u001b[0m         if not (self._backward_hooks or self._forward_hooks or self._forward_pre_hooks or _global_backward_hooks\n\u001b[1;32m   1050\u001b[0m                 or _global_forward_hooks or _global_forward_pre_hooks):\n\u001b[0;32m-> 1051\u001b[0;31m             \u001b[0;32mreturn\u001b[0m \u001b[0mforward_call\u001b[0m\u001b[0;34m(\u001b[0m\u001b[0;34m*\u001b[0m\u001b[0minput\u001b[0m\u001b[0;34m,\u001b[0m \u001b[0;34m**\u001b[0m\u001b[0mkwargs\u001b[0m\u001b[0;34m)\u001b[0m\u001b[0;34m\u001b[0m\u001b[0;34m\u001b[0m\u001b[0m\n\u001b[0m\u001b[1;32m   1052\u001b[0m         \u001b[0;31m# Do not call functions when jit is used\u001b[0m\u001b[0;34m\u001b[0m\u001b[0;34m\u001b[0m\u001b[0;34m\u001b[0m\u001b[0m\n\u001b[1;32m   1053\u001b[0m         \u001b[0mfull_backward_hooks\u001b[0m\u001b[0;34m,\u001b[0m \u001b[0mnon_full_backward_hooks\u001b[0m \u001b[0;34m=\u001b[0m \u001b[0;34m[\u001b[0m\u001b[0;34m]\u001b[0m\u001b[0;34m,\u001b[0m \u001b[0;34m[\u001b[0m\u001b[0;34m]\u001b[0m\u001b[0;34m\u001b[0m\u001b[0;34m\u001b[0m\u001b[0m\n",
            "\u001b[0;32m/content/model.py\u001b[0m in \u001b[0;36mforward\u001b[0;34m(self, x)\u001b[0m\n\u001b[1;32m    118\u001b[0m \u001b[0;34m\u001b[0m\u001b[0m\n\u001b[1;32m    119\u001b[0m     \u001b[0;32mdef\u001b[0m \u001b[0mforward\u001b[0m\u001b[0;34m(\u001b[0m\u001b[0mself\u001b[0m\u001b[0;34m,\u001b[0m \u001b[0mx\u001b[0m\u001b[0;34m)\u001b[0m\u001b[0;34m:\u001b[0m\u001b[0;34m\u001b[0m\u001b[0;34m\u001b[0m\u001b[0m\n\u001b[0;32m--> 120\u001b[0;31m         \u001b[0mx\u001b[0m \u001b[0;34m=\u001b[0m \u001b[0mself\u001b[0m\u001b[0;34m.\u001b[0m\u001b[0mconvblock1\u001b[0m\u001b[0;34m(\u001b[0m\u001b[0mx\u001b[0m\u001b[0;34m)\u001b[0m\u001b[0;34m\u001b[0m\u001b[0;34m\u001b[0m\u001b[0m\n\u001b[0m\u001b[1;32m    121\u001b[0m         \u001b[0mx\u001b[0m \u001b[0;34m=\u001b[0m \u001b[0mself\u001b[0m\u001b[0;34m.\u001b[0m\u001b[0mtransblock1\u001b[0m\u001b[0;34m(\u001b[0m\u001b[0mx\u001b[0m\u001b[0;34m)\u001b[0m\u001b[0;34m\u001b[0m\u001b[0;34m\u001b[0m\u001b[0m\n\u001b[1;32m    122\u001b[0m \u001b[0;34m\u001b[0m\u001b[0m\n",
            "\u001b[0;32m/usr/local/lib/python3.7/dist-packages/torch/nn/modules/module.py\u001b[0m in \u001b[0;36m_call_impl\u001b[0;34m(self, *input, **kwargs)\u001b[0m\n\u001b[1;32m   1049\u001b[0m         if not (self._backward_hooks or self._forward_hooks or self._forward_pre_hooks or _global_backward_hooks\n\u001b[1;32m   1050\u001b[0m                 or _global_forward_hooks or _global_forward_pre_hooks):\n\u001b[0;32m-> 1051\u001b[0;31m             \u001b[0;32mreturn\u001b[0m \u001b[0mforward_call\u001b[0m\u001b[0;34m(\u001b[0m\u001b[0;34m*\u001b[0m\u001b[0minput\u001b[0m\u001b[0;34m,\u001b[0m \u001b[0;34m**\u001b[0m\u001b[0mkwargs\u001b[0m\u001b[0;34m)\u001b[0m\u001b[0;34m\u001b[0m\u001b[0;34m\u001b[0m\u001b[0m\n\u001b[0m\u001b[1;32m   1052\u001b[0m         \u001b[0;31m# Do not call functions when jit is used\u001b[0m\u001b[0;34m\u001b[0m\u001b[0;34m\u001b[0m\u001b[0;34m\u001b[0m\u001b[0m\n\u001b[1;32m   1053\u001b[0m         \u001b[0mfull_backward_hooks\u001b[0m\u001b[0;34m,\u001b[0m \u001b[0mnon_full_backward_hooks\u001b[0m \u001b[0;34m=\u001b[0m \u001b[0;34m[\u001b[0m\u001b[0;34m]\u001b[0m\u001b[0;34m,\u001b[0m \u001b[0;34m[\u001b[0m\u001b[0;34m]\u001b[0m\u001b[0;34m\u001b[0m\u001b[0;34m\u001b[0m\u001b[0m\n",
            "\u001b[0;32m/usr/local/lib/python3.7/dist-packages/torch/nn/modules/container.py\u001b[0m in \u001b[0;36mforward\u001b[0;34m(self, input)\u001b[0m\n\u001b[1;32m    137\u001b[0m     \u001b[0;32mdef\u001b[0m \u001b[0mforward\u001b[0m\u001b[0;34m(\u001b[0m\u001b[0mself\u001b[0m\u001b[0;34m,\u001b[0m \u001b[0minput\u001b[0m\u001b[0;34m)\u001b[0m\u001b[0;34m:\u001b[0m\u001b[0;34m\u001b[0m\u001b[0;34m\u001b[0m\u001b[0m\n\u001b[1;32m    138\u001b[0m         \u001b[0;32mfor\u001b[0m \u001b[0mmodule\u001b[0m \u001b[0;32min\u001b[0m \u001b[0mself\u001b[0m\u001b[0;34m:\u001b[0m\u001b[0;34m\u001b[0m\u001b[0;34m\u001b[0m\u001b[0m\n\u001b[0;32m--> 139\u001b[0;31m             \u001b[0minput\u001b[0m \u001b[0;34m=\u001b[0m \u001b[0mmodule\u001b[0m\u001b[0;34m(\u001b[0m\u001b[0minput\u001b[0m\u001b[0;34m)\u001b[0m\u001b[0;34m\u001b[0m\u001b[0;34m\u001b[0m\u001b[0m\n\u001b[0m\u001b[1;32m    140\u001b[0m         \u001b[0;32mreturn\u001b[0m \u001b[0minput\u001b[0m\u001b[0;34m\u001b[0m\u001b[0;34m\u001b[0m\u001b[0m\n\u001b[1;32m    141\u001b[0m \u001b[0;34m\u001b[0m\u001b[0m\n",
            "\u001b[0;32m/usr/local/lib/python3.7/dist-packages/torch/nn/modules/module.py\u001b[0m in \u001b[0;36m_call_impl\u001b[0;34m(self, *input, **kwargs)\u001b[0m\n\u001b[1;32m   1049\u001b[0m         if not (self._backward_hooks or self._forward_hooks or self._forward_pre_hooks or _global_backward_hooks\n\u001b[1;32m   1050\u001b[0m                 or _global_forward_hooks or _global_forward_pre_hooks):\n\u001b[0;32m-> 1051\u001b[0;31m             \u001b[0;32mreturn\u001b[0m \u001b[0mforward_call\u001b[0m\u001b[0;34m(\u001b[0m\u001b[0;34m*\u001b[0m\u001b[0minput\u001b[0m\u001b[0;34m,\u001b[0m \u001b[0;34m**\u001b[0m\u001b[0mkwargs\u001b[0m\u001b[0;34m)\u001b[0m\u001b[0;34m\u001b[0m\u001b[0;34m\u001b[0m\u001b[0m\n\u001b[0m\u001b[1;32m   1052\u001b[0m         \u001b[0;31m# Do not call functions when jit is used\u001b[0m\u001b[0;34m\u001b[0m\u001b[0;34m\u001b[0m\u001b[0;34m\u001b[0m\u001b[0m\n\u001b[1;32m   1053\u001b[0m         \u001b[0mfull_backward_hooks\u001b[0m\u001b[0;34m,\u001b[0m \u001b[0mnon_full_backward_hooks\u001b[0m \u001b[0;34m=\u001b[0m \u001b[0;34m[\u001b[0m\u001b[0;34m]\u001b[0m\u001b[0;34m,\u001b[0m \u001b[0;34m[\u001b[0m\u001b[0;34m]\u001b[0m\u001b[0;34m\u001b[0m\u001b[0;34m\u001b[0m\u001b[0m\n",
            "\u001b[0;32m/usr/local/lib/python3.7/dist-packages/torch/nn/modules/conv.py\u001b[0m in \u001b[0;36mforward\u001b[0;34m(self, input)\u001b[0m\n\u001b[1;32m    441\u001b[0m \u001b[0;34m\u001b[0m\u001b[0m\n\u001b[1;32m    442\u001b[0m     \u001b[0;32mdef\u001b[0m \u001b[0mforward\u001b[0m\u001b[0;34m(\u001b[0m\u001b[0mself\u001b[0m\u001b[0;34m,\u001b[0m \u001b[0minput\u001b[0m\u001b[0;34m:\u001b[0m \u001b[0mTensor\u001b[0m\u001b[0;34m)\u001b[0m \u001b[0;34m->\u001b[0m \u001b[0mTensor\u001b[0m\u001b[0;34m:\u001b[0m\u001b[0;34m\u001b[0m\u001b[0;34m\u001b[0m\u001b[0m\n\u001b[0;32m--> 443\u001b[0;31m         \u001b[0;32mreturn\u001b[0m \u001b[0mself\u001b[0m\u001b[0;34m.\u001b[0m\u001b[0m_conv_forward\u001b[0m\u001b[0;34m(\u001b[0m\u001b[0minput\u001b[0m\u001b[0;34m,\u001b[0m \u001b[0mself\u001b[0m\u001b[0;34m.\u001b[0m\u001b[0mweight\u001b[0m\u001b[0;34m,\u001b[0m \u001b[0mself\u001b[0m\u001b[0;34m.\u001b[0m\u001b[0mbias\u001b[0m\u001b[0;34m)\u001b[0m\u001b[0;34m\u001b[0m\u001b[0;34m\u001b[0m\u001b[0m\n\u001b[0m\u001b[1;32m    444\u001b[0m \u001b[0;34m\u001b[0m\u001b[0m\n\u001b[1;32m    445\u001b[0m \u001b[0;32mclass\u001b[0m \u001b[0mConv3d\u001b[0m\u001b[0;34m(\u001b[0m\u001b[0m_ConvNd\u001b[0m\u001b[0;34m)\u001b[0m\u001b[0;34m:\u001b[0m\u001b[0;34m\u001b[0m\u001b[0;34m\u001b[0m\u001b[0m\n",
            "\u001b[0;32m/usr/local/lib/python3.7/dist-packages/torch/nn/modules/conv.py\u001b[0m in \u001b[0;36m_conv_forward\u001b[0;34m(self, input, weight, bias)\u001b[0m\n\u001b[1;32m    438\u001b[0m                             _pair(0), self.dilation, self.groups)\n\u001b[1;32m    439\u001b[0m         return F.conv2d(input, weight, bias, self.stride,\n\u001b[0;32m--> 440\u001b[0;31m                         self.padding, self.dilation, self.groups)\n\u001b[0m\u001b[1;32m    441\u001b[0m \u001b[0;34m\u001b[0m\u001b[0m\n\u001b[1;32m    442\u001b[0m     \u001b[0;32mdef\u001b[0m \u001b[0mforward\u001b[0m\u001b[0;34m(\u001b[0m\u001b[0mself\u001b[0m\u001b[0;34m,\u001b[0m \u001b[0minput\u001b[0m\u001b[0;34m:\u001b[0m \u001b[0mTensor\u001b[0m\u001b[0;34m)\u001b[0m \u001b[0;34m->\u001b[0m \u001b[0mTensor\u001b[0m\u001b[0;34m:\u001b[0m\u001b[0;34m\u001b[0m\u001b[0;34m\u001b[0m\u001b[0m\n",
            "\u001b[0;31mKeyboardInterrupt\u001b[0m: "
          ]
        }
      ]
    },
    {
      "cell_type": "code",
      "metadata": {
        "id": "TFzVglS1jJUW",
        "colab": {
          "base_uri": "https://localhost:8080/"
        },
        "outputId": "3445d715-242d-4f04-be36-dfeacbb0956c"
      },
      "source": [
        " EPOCHS = epochs\n",
        "\n",
        "device = 'cuda' if torch.cuda.is_available() else 'cpu'\n",
        "best_valid_loss = float('inf')\n",
        "\n",
        "l1_factor = 0\n",
        "\n",
        "for epoch in range(EPOCHS):\n",
        "    \n",
        "    train_loss, train_acc = train(net, train_loader, optimizer, scheduler, criterion, l1_factor, device)\n",
        "    valid_loss, valid_acc = evaluate(net, test_loader, criterion, device)\n",
        "        \n",
        "    if valid_loss < best_valid_loss:\n",
        "        best_valid_loss = valid_loss\n",
        "        torch.save(net.state_dict(), '96K-model.pth')\n",
        "    \n",
        "    print(f'Epoch: {epoch+1:02} ')\n",
        "    print(f'\\tTrain Loss: {train_loss:.3f} | Train Acc: {train_acc*100:.2f}%')\n",
        "    print(f'\\t Val. Loss: {valid_loss:.3f} |  Val. Acc: {valid_acc*100:.2f}%')"
      ],
      "execution_count": null,
      "outputs": [
        {
          "output_type": "stream",
          "text": [
            "Epoch: 01 \n",
            "\tTrain Loss: 1.697 | Train Acc: 39.85%\n",
            "\t Val. Loss: 1.318 |  Val. Acc: 54.59%\n",
            "Epoch: 02 \n",
            "\tTrain Loss: 1.366 | Train Acc: 53.32%\n",
            "\t Val. Loss: 1.066 |  Val. Acc: 64.01%\n",
            "Epoch: 03 \n",
            "\tTrain Loss: 1.197 | Train Acc: 59.35%\n",
            "\t Val. Loss: 0.963 |  Val. Acc: 67.69%\n",
            "Epoch: 04 \n",
            "\tTrain Loss: 1.092 | Train Acc: 63.05%\n",
            "\t Val. Loss: 0.866 |  Val. Acc: 71.11%\n",
            "Epoch: 05 \n",
            "\tTrain Loss: 1.021 | Train Acc: 65.30%\n",
            "\t Val. Loss: 0.803 |  Val. Acc: 73.05%\n",
            "Epoch: 06 \n",
            "\tTrain Loss: 0.963 | Train Acc: 67.25%\n",
            "\t Val. Loss: 0.737 |  Val. Acc: 75.37%\n",
            "Epoch: 07 \n",
            "\tTrain Loss: 0.918 | Train Acc: 68.91%\n",
            "\t Val. Loss: 0.714 |  Val. Acc: 76.22%\n",
            "Epoch: 08 \n",
            "\tTrain Loss: 0.887 | Train Acc: 69.62%\n",
            "\t Val. Loss: 0.690 |  Val. Acc: 76.73%\n",
            "Epoch: 09 \n",
            "\tTrain Loss: 0.853 | Train Acc: 71.05%\n",
            "\t Val. Loss: 0.678 |  Val. Acc: 77.37%\n",
            "Epoch: 10 \n",
            "\tTrain Loss: 0.836 | Train Acc: 71.73%\n",
            "\t Val. Loss: 0.646 |  Val. Acc: 78.44%\n",
            "Epoch: 11 \n",
            "\tTrain Loss: 0.809 | Train Acc: 72.54%\n",
            "\t Val. Loss: 0.615 |  Val. Acc: 79.44%\n",
            "Epoch: 12 \n",
            "\tTrain Loss: 0.789 | Train Acc: 73.23%\n",
            "\t Val. Loss: 0.602 |  Val. Acc: 79.48%\n",
            "Epoch: 13 \n",
            "\tTrain Loss: 0.772 | Train Acc: 73.51%\n",
            "\t Val. Loss: 0.583 |  Val. Acc: 80.21%\n",
            "Epoch: 14 \n",
            "\tTrain Loss: 0.758 | Train Acc: 74.13%\n",
            "\t Val. Loss: 0.587 |  Val. Acc: 79.86%\n",
            "Epoch: 15 \n",
            "\tTrain Loss: 0.749 | Train Acc: 74.51%\n",
            "\t Val. Loss: 0.593 |  Val. Acc: 79.86%\n",
            "Epoch: 16 \n",
            "\tTrain Loss: 0.731 | Train Acc: 74.94%\n",
            "\t Val. Loss: 0.565 |  Val. Acc: 81.07%\n",
            "Epoch: 17 \n",
            "\tTrain Loss: 0.717 | Train Acc: 75.46%\n",
            "\t Val. Loss: 0.555 |  Val. Acc: 81.19%\n",
            "Epoch: 18 \n",
            "\tTrain Loss: 0.702 | Train Acc: 76.02%\n",
            "\t Val. Loss: 0.560 |  Val. Acc: 81.09%\n",
            "Epoch: 19 \n",
            "\tTrain Loss: 0.702 | Train Acc: 76.18%\n",
            "\t Val. Loss: 0.559 |  Val. Acc: 81.23%\n",
            "Epoch: 20 \n",
            "\tTrain Loss: 0.683 | Train Acc: 76.67%\n",
            "\t Val. Loss: 0.530 |  Val. Acc: 82.32%\n",
            "Epoch: 21 \n",
            "\tTrain Loss: 0.676 | Train Acc: 77.07%\n",
            "\t Val. Loss: 0.519 |  Val. Acc: 82.38%\n",
            "Epoch: 22 \n",
            "\tTrain Loss: 0.670 | Train Acc: 77.15%\n",
            "\t Val. Loss: 0.542 |  Val. Acc: 81.41%\n",
            "Epoch: 23 \n",
            "\tTrain Loss: 0.662 | Train Acc: 77.41%\n",
            "\t Val. Loss: 0.524 |  Val. Acc: 82.30%\n",
            "Epoch: 24 \n",
            "\tTrain Loss: 0.657 | Train Acc: 77.63%\n",
            "\t Val. Loss: 0.518 |  Val. Acc: 82.36%\n",
            "Epoch: 25 \n",
            "\tTrain Loss: 0.643 | Train Acc: 78.02%\n",
            "\t Val. Loss: 0.513 |  Val. Acc: 82.49%\n",
            "Epoch: 26 \n",
            "\tTrain Loss: 0.636 | Train Acc: 78.27%\n",
            "\t Val. Loss: 0.503 |  Val. Acc: 82.92%\n",
            "Epoch: 27 \n",
            "\tTrain Loss: 0.632 | Train Acc: 78.26%\n",
            "\t Val. Loss: 0.504 |  Val. Acc: 82.92%\n",
            "Epoch: 28 \n",
            "\tTrain Loss: 0.625 | Train Acc: 78.73%\n",
            "\t Val. Loss: 0.493 |  Val. Acc: 83.31%\n",
            "Epoch: 29 \n",
            "\tTrain Loss: 0.618 | Train Acc: 78.87%\n",
            "\t Val. Loss: 0.488 |  Val. Acc: 83.23%\n",
            "Epoch: 30 \n",
            "\tTrain Loss: 0.607 | Train Acc: 79.21%\n",
            "\t Val. Loss: 0.488 |  Val. Acc: 83.87%\n",
            "Epoch: 31 \n",
            "\tTrain Loss: 0.609 | Train Acc: 79.16%\n",
            "\t Val. Loss: 0.485 |  Val. Acc: 83.45%\n",
            "Epoch: 32 \n",
            "\tTrain Loss: 0.604 | Train Acc: 79.23%\n",
            "\t Val. Loss: 0.470 |  Val. Acc: 84.39%\n",
            "Epoch: 33 \n",
            "\tTrain Loss: 0.595 | Train Acc: 79.68%\n",
            "\t Val. Loss: 0.464 |  Val. Acc: 84.21%\n",
            "Epoch: 34 \n",
            "\tTrain Loss: 0.593 | Train Acc: 79.69%\n",
            "\t Val. Loss: 0.471 |  Val. Acc: 83.94%\n",
            "Epoch: 35 \n",
            "\tTrain Loss: 0.584 | Train Acc: 80.04%\n",
            "\t Val. Loss: 0.468 |  Val. Acc: 84.15%\n",
            "Epoch: 36 \n",
            "\tTrain Loss: 0.582 | Train Acc: 79.98%\n",
            "\t Val. Loss: 0.478 |  Val. Acc: 84.02%\n",
            "Epoch: 37 \n",
            "\tTrain Loss: 0.578 | Train Acc: 80.11%\n",
            "\t Val. Loss: 0.460 |  Val. Acc: 84.67%\n",
            "Epoch: 38 \n",
            "\tTrain Loss: 0.572 | Train Acc: 80.50%\n",
            "\t Val. Loss: 0.465 |  Val. Acc: 84.46%\n",
            "Epoch: 39 \n",
            "\tTrain Loss: 0.571 | Train Acc: 80.48%\n",
            "\t Val. Loss: 0.453 |  Val. Acc: 84.72%\n",
            "Epoch: 40 \n",
            "\tTrain Loss: 0.567 | Train Acc: 80.60%\n",
            "\t Val. Loss: 0.461 |  Val. Acc: 84.24%\n",
            "Epoch: 41 \n",
            "\tTrain Loss: 0.563 | Train Acc: 80.77%\n",
            "\t Val. Loss: 0.455 |  Val. Acc: 84.41%\n",
            "Epoch: 42 \n",
            "\tTrain Loss: 0.558 | Train Acc: 80.93%\n",
            "\t Val. Loss: 0.447 |  Val. Acc: 84.51%\n",
            "Epoch: 43 \n",
            "\tTrain Loss: 0.553 | Train Acc: 81.27%\n",
            "\t Val. Loss: 0.462 |  Val. Acc: 84.37%\n",
            "Epoch: 44 \n",
            "\tTrain Loss: 0.539 | Train Acc: 81.60%\n",
            "\t Val. Loss: 0.449 |  Val. Acc: 85.32%\n",
            "Epoch: 45 \n",
            "\tTrain Loss: 0.541 | Train Acc: 81.39%\n",
            "\t Val. Loss: 0.448 |  Val. Acc: 84.98%\n",
            "Epoch: 46 \n",
            "\tTrain Loss: 0.541 | Train Acc: 81.58%\n",
            "\t Val. Loss: 0.459 |  Val. Acc: 84.96%\n",
            "Epoch: 47 \n",
            "\tTrain Loss: 0.540 | Train Acc: 81.56%\n",
            "\t Val. Loss: 0.435 |  Val. Acc: 85.59%\n",
            "Epoch: 48 \n",
            "\tTrain Loss: 0.538 | Train Acc: 81.44%\n",
            "\t Val. Loss: 0.447 |  Val. Acc: 85.12%\n",
            "Epoch: 49 \n",
            "\tTrain Loss: 0.535 | Train Acc: 81.73%\n",
            "\t Val. Loss: 0.449 |  Val. Acc: 84.96%\n",
            "Epoch: 50 \n",
            "\tTrain Loss: 0.531 | Train Acc: 81.82%\n",
            "\t Val. Loss: 0.437 |  Val. Acc: 85.36%\n",
            "Epoch: 51 \n",
            "\tTrain Loss: 0.526 | Train Acc: 81.96%\n",
            "\t Val. Loss: 0.438 |  Val. Acc: 85.06%\n",
            "Epoch: 52 \n",
            "\tTrain Loss: 0.520 | Train Acc: 82.17%\n",
            "\t Val. Loss: 0.430 |  Val. Acc: 85.50%\n",
            "Epoch: 53 \n",
            "\tTrain Loss: 0.524 | Train Acc: 82.13%\n",
            "\t Val. Loss: 0.441 |  Val. Acc: 85.25%\n",
            "Epoch: 54 \n",
            "\tTrain Loss: 0.515 | Train Acc: 82.40%\n",
            "\t Val. Loss: 0.437 |  Val. Acc: 85.40%\n",
            "Epoch: 55 \n",
            "\tTrain Loss: 0.521 | Train Acc: 82.15%\n",
            "\t Val. Loss: 0.424 |  Val. Acc: 85.66%\n",
            "Epoch: 56 \n",
            "\tTrain Loss: 0.513 | Train Acc: 82.64%\n",
            "\t Val. Loss: 0.432 |  Val. Acc: 85.62%\n",
            "Epoch: 57 \n",
            "\tTrain Loss: 0.507 | Train Acc: 82.62%\n",
            "\t Val. Loss: 0.447 |  Val. Acc: 85.21%\n",
            "Epoch: 58 \n",
            "\tTrain Loss: 0.515 | Train Acc: 82.41%\n",
            "\t Val. Loss: 0.433 |  Val. Acc: 85.57%\n",
            "Epoch: 59 \n",
            "\tTrain Loss: 0.504 | Train Acc: 82.62%\n",
            "\t Val. Loss: 0.429 |  Val. Acc: 85.36%\n",
            "Epoch: 60 \n",
            "\tTrain Loss: 0.508 | Train Acc: 82.63%\n",
            "\t Val. Loss: 0.423 |  Val. Acc: 85.71%\n",
            "Epoch: 61 \n",
            "\tTrain Loss: 0.500 | Train Acc: 83.00%\n",
            "\t Val. Loss: 0.422 |  Val. Acc: 85.70%\n",
            "Epoch: 62 \n",
            "\tTrain Loss: 0.498 | Train Acc: 83.01%\n",
            "\t Val. Loss: 0.418 |  Val. Acc: 86.00%\n",
            "Epoch: 63 \n",
            "\tTrain Loss: 0.499 | Train Acc: 82.90%\n",
            "\t Val. Loss: 0.420 |  Val. Acc: 86.19%\n",
            "Epoch: 64 \n",
            "\tTrain Loss: 0.494 | Train Acc: 83.03%\n",
            "\t Val. Loss: 0.424 |  Val. Acc: 85.54%\n",
            "Epoch: 65 \n",
            "\tTrain Loss: 0.500 | Train Acc: 82.91%\n",
            "\t Val. Loss: 0.413 |  Val. Acc: 86.22%\n",
            "Epoch: 66 \n",
            "\tTrain Loss: 0.494 | Train Acc: 83.14%\n",
            "\t Val. Loss: 0.413 |  Val. Acc: 85.96%\n",
            "Epoch: 67 \n",
            "\tTrain Loss: 0.492 | Train Acc: 83.13%\n",
            "\t Val. Loss: 0.419 |  Val. Acc: 85.92%\n",
            "Epoch: 68 \n",
            "\tTrain Loss: 0.488 | Train Acc: 83.26%\n",
            "\t Val. Loss: 0.428 |  Val. Acc: 85.46%\n",
            "Epoch: 69 \n",
            "\tTrain Loss: 0.488 | Train Acc: 83.24%\n",
            "\t Val. Loss: 0.413 |  Val. Acc: 86.12%\n",
            "Epoch: 70 \n",
            "\tTrain Loss: 0.483 | Train Acc: 83.50%\n",
            "\t Val. Loss: 0.418 |  Val. Acc: 85.83%\n",
            "Epoch: 71 \n",
            "\tTrain Loss: 0.479 | Train Acc: 83.59%\n",
            "\t Val. Loss: 0.426 |  Val. Acc: 85.65%\n",
            "Epoch: 72 \n",
            "\tTrain Loss: 0.482 | Train Acc: 83.59%\n",
            "\t Val. Loss: 0.407 |  Val. Acc: 86.40%\n",
            "Epoch: 73 \n",
            "\tTrain Loss: 0.479 | Train Acc: 83.70%\n",
            "\t Val. Loss: 0.414 |  Val. Acc: 85.96%\n",
            "Epoch: 74 \n",
            "\tTrain Loss: 0.471 | Train Acc: 83.91%\n",
            "\t Val. Loss: 0.417 |  Val. Acc: 85.97%\n",
            "Epoch: 75 \n",
            "\tTrain Loss: 0.467 | Train Acc: 84.11%\n",
            "\t Val. Loss: 0.408 |  Val. Acc: 86.09%\n",
            "Epoch: 76 \n",
            "\tTrain Loss: 0.475 | Train Acc: 83.63%\n",
            "\t Val. Loss: 0.420 |  Val. Acc: 85.83%\n",
            "Epoch: 77 \n",
            "\tTrain Loss: 0.471 | Train Acc: 83.67%\n",
            "\t Val. Loss: 0.413 |  Val. Acc: 86.00%\n",
            "Epoch: 78 \n",
            "\tTrain Loss: 0.469 | Train Acc: 83.99%\n",
            "\t Val. Loss: 0.413 |  Val. Acc: 86.39%\n",
            "Epoch: 79 \n",
            "\tTrain Loss: 0.466 | Train Acc: 83.93%\n",
            "\t Val. Loss: 0.414 |  Val. Acc: 85.90%\n",
            "Epoch: 80 \n",
            "\tTrain Loss: 0.464 | Train Acc: 83.99%\n",
            "\t Val. Loss: 0.410 |  Val. Acc: 86.04%\n",
            "Epoch: 81 \n",
            "\tTrain Loss: 0.461 | Train Acc: 84.25%\n",
            "\t Val. Loss: 0.420 |  Val. Acc: 85.69%\n",
            "Epoch: 82 \n",
            "\tTrain Loss: 0.463 | Train Acc: 84.11%\n",
            "\t Val. Loss: 0.407 |  Val. Acc: 86.19%\n",
            "Epoch: 83 \n",
            "\tTrain Loss: 0.463 | Train Acc: 84.15%\n",
            "\t Val. Loss: 0.404 |  Val. Acc: 86.19%\n",
            "Epoch: 84 \n",
            "\tTrain Loss: 0.457 | Train Acc: 84.44%\n",
            "\t Val. Loss: 0.415 |  Val. Acc: 85.95%\n",
            "Epoch: 85 \n",
            "\tTrain Loss: 0.460 | Train Acc: 84.07%\n",
            "\t Val. Loss: 0.399 |  Val. Acc: 86.50%\n",
            "Epoch: 86 \n",
            "\tTrain Loss: 0.455 | Train Acc: 84.41%\n",
            "\t Val. Loss: 0.406 |  Val. Acc: 86.29%\n",
            "Epoch: 87 \n",
            "\tTrain Loss: 0.454 | Train Acc: 84.38%\n",
            "\t Val. Loss: 0.399 |  Val. Acc: 86.28%\n",
            "Epoch: 88 \n",
            "\tTrain Loss: 0.449 | Train Acc: 84.60%\n",
            "\t Val. Loss: 0.409 |  Val. Acc: 86.18%\n",
            "Epoch: 89 \n",
            "\tTrain Loss: 0.455 | Train Acc: 84.45%\n",
            "\t Val. Loss: 0.414 |  Val. Acc: 86.25%\n",
            "Epoch: 90 \n",
            "\tTrain Loss: 0.455 | Train Acc: 84.34%\n",
            "\t Val. Loss: 0.404 |  Val. Acc: 86.37%\n",
            "Epoch: 91 \n",
            "\tTrain Loss: 0.446 | Train Acc: 84.50%\n",
            "\t Val. Loss: 0.408 |  Val. Acc: 86.22%\n",
            "Epoch: 92 \n",
            "\tTrain Loss: 0.445 | Train Acc: 84.79%\n",
            "\t Val. Loss: 0.391 |  Val. Acc: 87.03%\n",
            "Epoch: 93 \n",
            "\tTrain Loss: 0.444 | Train Acc: 85.09%\n",
            "\t Val. Loss: 0.403 |  Val. Acc: 86.91%\n",
            "Epoch: 94 \n",
            "\tTrain Loss: 0.446 | Train Acc: 84.70%\n",
            "\t Val. Loss: 0.399 |  Val. Acc: 86.33%\n",
            "Epoch: 95 \n",
            "\tTrain Loss: 0.442 | Train Acc: 84.84%\n",
            "\t Val. Loss: 0.400 |  Val. Acc: 86.20%\n",
            "Epoch: 96 \n",
            "\tTrain Loss: 0.444 | Train Acc: 84.66%\n",
            "\t Val. Loss: 0.395 |  Val. Acc: 86.68%\n",
            "Epoch: 97 \n",
            "\tTrain Loss: 0.444 | Train Acc: 84.81%\n",
            "\t Val. Loss: 0.398 |  Val. Acc: 86.38%\n",
            "Epoch: 98 \n",
            "\tTrain Loss: 0.443 | Train Acc: 84.85%\n",
            "\t Val. Loss: 0.394 |  Val. Acc: 86.71%\n",
            "Epoch: 99 \n",
            "\tTrain Loss: 0.443 | Train Acc: 84.91%\n",
            "\t Val. Loss: 0.404 |  Val. Acc: 86.46%\n",
            "Epoch: 100 \n",
            "\tTrain Loss: 0.436 | Train Acc: 85.00%\n",
            "\t Val. Loss: 0.399 |  Val. Acc: 86.72%\n",
            "Epoch: 101 \n",
            "\tTrain Loss: 0.433 | Train Acc: 85.15%\n",
            "\t Val. Loss: 0.395 |  Val. Acc: 86.72%\n",
            "Epoch: 102 \n",
            "\tTrain Loss: 0.436 | Train Acc: 85.11%\n",
            "\t Val. Loss: 0.389 |  Val. Acc: 87.04%\n",
            "Epoch: 103 \n",
            "\tTrain Loss: 0.434 | Train Acc: 85.02%\n",
            "\t Val. Loss: 0.395 |  Val. Acc: 86.89%\n",
            "Epoch: 104 \n",
            "\tTrain Loss: 0.431 | Train Acc: 85.26%\n",
            "\t Val. Loss: 0.398 |  Val. Acc: 86.81%\n",
            "Epoch: 105 \n",
            "\tTrain Loss: 0.428 | Train Acc: 85.23%\n",
            "\t Val. Loss: 0.393 |  Val. Acc: 86.84%\n",
            "Epoch: 106 \n",
            "\tTrain Loss: 0.427 | Train Acc: 85.39%\n",
            "\t Val. Loss: 0.399 |  Val. Acc: 86.99%\n",
            "Epoch: 107 \n",
            "\tTrain Loss: 0.426 | Train Acc: 85.44%\n",
            "\t Val. Loss: 0.381 |  Val. Acc: 87.21%\n",
            "Epoch: 108 \n",
            "\tTrain Loss: 0.433 | Train Acc: 85.01%\n",
            "\t Val. Loss: 0.391 |  Val. Acc: 86.91%\n",
            "Epoch: 109 \n",
            "\tTrain Loss: 0.429 | Train Acc: 85.31%\n",
            "\t Val. Loss: 0.391 |  Val. Acc: 86.72%\n",
            "Epoch: 110 \n",
            "\tTrain Loss: 0.427 | Train Acc: 85.42%\n",
            "\t Val. Loss: 0.396 |  Val. Acc: 86.97%\n",
            "Epoch: 111 \n",
            "\tTrain Loss: 0.430 | Train Acc: 85.32%\n",
            "\t Val. Loss: 0.389 |  Val. Acc: 86.73%\n",
            "Epoch: 112 \n",
            "\tTrain Loss: 0.426 | Train Acc: 85.44%\n",
            "\t Val. Loss: 0.401 |  Val. Acc: 86.58%\n",
            "Epoch: 113 \n",
            "\tTrain Loss: 0.423 | Train Acc: 85.30%\n",
            "\t Val. Loss: 0.386 |  Val. Acc: 86.81%\n",
            "Epoch: 114 \n",
            "\tTrain Loss: 0.423 | Train Acc: 85.51%\n",
            "\t Val. Loss: 0.387 |  Val. Acc: 87.26%\n",
            "Epoch: 115 \n",
            "\tTrain Loss: 0.420 | Train Acc: 85.47%\n",
            "\t Val. Loss: 0.397 |  Val. Acc: 86.63%\n",
            "Epoch: 116 \n",
            "\tTrain Loss: 0.421 | Train Acc: 85.53%\n",
            "\t Val. Loss: 0.404 |  Val. Acc: 86.46%\n",
            "Epoch: 117 \n",
            "\tTrain Loss: 0.424 | Train Acc: 85.45%\n",
            "\t Val. Loss: 0.387 |  Val. Acc: 87.12%\n",
            "Epoch: 118 \n",
            "\tTrain Loss: 0.419 | Train Acc: 85.83%\n",
            "\t Val. Loss: 0.394 |  Val. Acc: 87.18%\n",
            "Epoch: 119 \n",
            "\tTrain Loss: 0.409 | Train Acc: 85.89%\n",
            "\t Val. Loss: 0.407 |  Val. Acc: 86.36%\n"
          ],
          "name": "stdout"
        }
      ]
    },
    {
      "cell_type": "code",
      "metadata": {
        "id": "84xs17cmkuCM"
      },
      "source": [
        ""
      ],
      "execution_count": null,
      "outputs": []
    },
    {
      "cell_type": "code",
      "metadata": {
        "id": "23fhmaIkK2AZ"
      },
      "source": [
        ""
      ],
      "execution_count": null,
      "outputs": []
    }
  ]
}